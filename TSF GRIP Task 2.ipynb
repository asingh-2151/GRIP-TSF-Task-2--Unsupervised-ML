{
 "cells": [
  {
   "cell_type": "markdown",
   "id": "d137d0fd",
   "metadata": {},
   "source": [
    "# TSF GRIP October 2021"
   ]
  },
  {
   "cell_type": "markdown",
   "id": "89a0cc81",
   "metadata": {},
   "source": [
    "## Prediction Using Unsupervised ML"
   ]
  },
  {
   "cell_type": "markdown",
   "id": "e6da6799",
   "metadata": {},
   "source": [
    "### By- Aakhyat Singh"
   ]
  },
  {
   "cell_type": "markdown",
   "id": "d0bbda0d",
   "metadata": {},
   "source": [
    "Importing the libraries required"
   ]
  },
  {
   "cell_type": "code",
   "execution_count": 1,
   "id": "c5349927",
   "metadata": {},
   "outputs": [],
   "source": [
    "import numpy as np\n",
    "import matplotlib.pyplot as plt\n",
    "import pandas as pd\n",
    "%matplotlib inline\n",
    "from sklearn import datasets"
   ]
  },
  {
   "cell_type": "markdown",
   "id": "5c5061da",
   "metadata": {},
   "source": [
    "Importing the dataset required"
   ]
  },
  {
   "cell_type": "code",
   "execution_count": 2,
   "id": "7a1552d2",
   "metadata": {
    "scrolled": true
   },
   "outputs": [
    {
     "data": {
      "text/html": [
       "<div>\n",
       "<style scoped>\n",
       "    .dataframe tbody tr th:only-of-type {\n",
       "        vertical-align: middle;\n",
       "    }\n",
       "\n",
       "    .dataframe tbody tr th {\n",
       "        vertical-align: top;\n",
       "    }\n",
       "\n",
       "    .dataframe thead th {\n",
       "        text-align: right;\n",
       "    }\n",
       "</style>\n",
       "<table border=\"1\" class=\"dataframe\">\n",
       "  <thead>\n",
       "    <tr style=\"text-align: right;\">\n",
       "      <th></th>\n",
       "      <th>sepal length (cm)</th>\n",
       "      <th>sepal width (cm)</th>\n",
       "      <th>petal length (cm)</th>\n",
       "      <th>petal width (cm)</th>\n",
       "    </tr>\n",
       "  </thead>\n",
       "  <tbody>\n",
       "    <tr>\n",
       "      <th>0</th>\n",
       "      <td>5.1</td>\n",
       "      <td>3.5</td>\n",
       "      <td>1.4</td>\n",
       "      <td>0.2</td>\n",
       "    </tr>\n",
       "    <tr>\n",
       "      <th>1</th>\n",
       "      <td>4.9</td>\n",
       "      <td>3.0</td>\n",
       "      <td>1.4</td>\n",
       "      <td>0.2</td>\n",
       "    </tr>\n",
       "    <tr>\n",
       "      <th>2</th>\n",
       "      <td>4.7</td>\n",
       "      <td>3.2</td>\n",
       "      <td>1.3</td>\n",
       "      <td>0.2</td>\n",
       "    </tr>\n",
       "    <tr>\n",
       "      <th>3</th>\n",
       "      <td>4.6</td>\n",
       "      <td>3.1</td>\n",
       "      <td>1.5</td>\n",
       "      <td>0.2</td>\n",
       "    </tr>\n",
       "    <tr>\n",
       "      <th>4</th>\n",
       "      <td>5.0</td>\n",
       "      <td>3.6</td>\n",
       "      <td>1.4</td>\n",
       "      <td>0.2</td>\n",
       "    </tr>\n",
       "  </tbody>\n",
       "</table>\n",
       "</div>"
      ],
      "text/plain": [
       "   sepal length (cm)  sepal width (cm)  petal length (cm)  petal width (cm)\n",
       "0                5.1               3.5                1.4               0.2\n",
       "1                4.9               3.0                1.4               0.2\n",
       "2                4.7               3.2                1.3               0.2\n",
       "3                4.6               3.1                1.5               0.2\n",
       "4                5.0               3.6                1.4               0.2"
      ]
     },
     "execution_count": 2,
     "metadata": {},
     "output_type": "execute_result"
    }
   ],
   "source": [
    "iris=datasets.load_iris()\n",
    "irisdf=pd.DataFrame(iris.data, columns = iris.feature_names)\n",
    "irisdf.head()"
   ]
  },
  {
   "cell_type": "code",
   "execution_count": 3,
   "id": "dc4489ee",
   "metadata": {},
   "outputs": [
    {
     "name": "stdout",
     "output_type": "stream",
     "text": [
      "<class 'pandas.core.frame.DataFrame'>\n",
      "RangeIndex: 150 entries, 0 to 149\n",
      "Data columns (total 4 columns):\n",
      " #   Column             Non-Null Count  Dtype  \n",
      "---  ------             --------------  -----  \n",
      " 0   sepal length (cm)  150 non-null    float64\n",
      " 1   sepal width (cm)   150 non-null    float64\n",
      " 2   petal length (cm)  150 non-null    float64\n",
      " 3   petal width (cm)   150 non-null    float64\n",
      "dtypes: float64(4)\n",
      "memory usage: 4.8 KB\n"
     ]
    }
   ],
   "source": [
    "irisdf.info()"
   ]
  },
  {
   "cell_type": "markdown",
   "id": "fb2bbdd5",
   "metadata": {},
   "source": [
    "Finding the optimum value of K needed to perform K-Means."
   ]
  },
  {
   "cell_type": "code",
   "execution_count": 4,
   "id": "41c64a7b",
   "metadata": {},
   "outputs": [
    {
     "name": "stderr",
     "output_type": "stream",
     "text": [
      "C:\\Users\\jayan\\anaconda3\\lib\\site-packages\\sklearn\\cluster\\_kmeans.py:881: UserWarning: KMeans is known to have a memory leak on Windows with MKL, when there are less chunks than available threads. You can avoid it by setting the environment variable OMP_NUM_THREADS=1.\n",
      "  warnings.warn(\n"
     ]
    },
    {
     "data": {
      "image/png": "[encoded data removed]",
      "text/plain": [
       "<Figure size 432x288 with 1 Axes>"
      ]
     },
     "metadata": {
      "needs_background": "light"
     },
     "output_type": "display_data"
    }
   ],
   "source": [
    "from sklearn.cluster import KMeans\n",
    "X=irisdf.iloc[:,[0,1,2,3]].values\n",
    "WCSS=[]\n",
    "#WCSS=Within Cluster Sum of Squares\n",
    "for i in range(1,11):\n",
    "    km=KMeans(n_clusters=i,init='k-means++',max_iter=300,n_init=10,random_state=0)\n",
    "    km.fit(X)\n",
    "    WCSS.append(km.inertia_)\n",
    "#plotting the results to find the elbow which corresponds to the optimum value for k-means\n",
    "plt.plot(range(1,11),WCSS,'go--',color='blue')\n",
    "plt.title('Finding out optimum value of K using elbow method')\n",
    "plt.xlabel('Number of clusters')\n",
    "plt.ylabel('WCSS')\n",
    "plt.show()"
   ]
  },
  {
   "cell_type": "markdown",
   "id": "5621e376",
   "metadata": {},
   "source": [
    "The elbow will always occur at the optimum number of clusters as that is the value of K from where the WCSS (Within Cluster Sum of Squares) doesn't decrease significantly with each iteration."
   ]
  },
  {
   "cell_type": "markdown",
   "id": "128fa162",
   "metadata": {},
   "source": [
    "It is observable from the given graph that the optimum value of K is **3**."
   ]
  },
  {
   "cell_type": "code",
   "execution_count": 5,
   "id": "d98eebb7",
   "metadata": {},
   "outputs": [],
   "source": [
    "#Creating the k-means classifier.\n",
    "km=KMeans(n_clusters=3,init='k-means++',max_iter=300,n_init=10,random_state=0)\n",
    "Ykm=km.fit_predict(X)"
   ]
  },
  {
   "cell_type": "markdown",
   "id": "1f3aa1ea",
   "metadata": {},
   "source": [
    "Visualizing the clusters and plotting their centroids"
   ]
  },
  {
   "cell_type": "code",
   "execution_count": 6,
   "id": "8d1d6885",
   "metadata": {},
   "outputs": [
    {
     "data": {
      "image/png": "[encoded data removed]",
      "text/plain": [
       "<Figure size 432x288 with 1 Axes>"
      ]
     },
     "metadata": {
      "needs_background": "light"
     },
     "output_type": "display_data"
    }
   ],
   "source": [
    "#Iris Setosa Cluster\n",
    "plt.scatter(X[Ykm==0,0],X[Ykm==0,1],s=25,color='red',label='Iris-setosa')\n",
    "#Iris Versicolor Cluster\n",
    "plt.scatter(X[Ykm==1,0],X[Ykm==1,1],s=25,color='blue',label='Iris-versicolor')\n",
    "#Iris Virginica Cluster\n",
    "plt.scatter(X[Ykm==2,0],X[Ykm==2,1],s=25,color='green',label='Iris-virginica')\n",
    "#Centroids of the three clusters\n",
    "plt.scatter(km.cluster_centers_[:,0],km.cluster_centers_[:,1],s=25,color='yellow',label='Centroids')\n",
    "plt.legend()\n",
    "plt.show()"
   ]
  },
  {
   "cell_type": "markdown",
   "id": "1fd8e806",
   "metadata": {},
   "source": [
    "### Thank You"
   ]
  }
 ],
 "metadata": {
  "kernelspec": {
   "display_name": "Python 3",
   "language": "python",
   "name": "python3"
  },
  "language_info": {
   "codemirror_mode": {
    "name": "ipython",
    "version": 3
   },
   "file_extension": ".py",
   "mimetype": "text/x-python",
   "name": "python",
   "nbconvert_exporter": "python",
   "pygments_lexer": "ipython3",
   "version": "3.8.8"
  }
 },
 "nbformat": 4,
 "nbformat_minor": 5
}
